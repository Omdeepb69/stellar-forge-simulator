{
  "cells": [
    {
      "cell_type": "markdown",
      "metadata": {},
      "source": [
        "# Stellar Forge Simulator: Planet Property Model Training"
      ]
    },
    {
      "cell_type": "markdown",
      "metadata": {},
      "source": [
        "## 1. Imports"
      ]
    },
    {
      "cell_type": "code",
      "execution_count": null,
      "metadata": {},
      "outputs": [],
      "source": [
        "import numpy as np\n",
        "import random\n",
        "import matplotlib.pyplot as plt\n",
        "import joblib\n",
        "from sklearn.model_selection import train_test_split, GridSearchCV\n",
        "from sklearn.preprocessing import PolynomialFeatures\n",
        "from sklearn.linear_model import LinearRegression\n",
        "from sklearn.pipeline import Pipeline\n",
        "from sklearn.metrics import mean_squared_error, r2_score"
      ]
    },
    {
      "cell_type": "markdown",
      "metadata": {},
      "source": [
        "## 2. Data Generation/Loading"
      ]
    },
    {
      "cell_type": "code",
      "execution_count": null,
      "metadata": {},
      "outputs": [],
      "source": [
        "# Simulate loading or generating data\n",
        "# In a real scenario, this might load data from a file or database.\n",
        "# Here, we generate synthetic data representing plausible relationships\n",
        "# between orbital distance and planet properties.\n",
        "\n",
        "def generate_synthetic_planet_data(num_samples=1000, seed=42):\n",
        "    \"\"\"Generates synthetic data for planet properties based on orbital distance.\"\"\"\n",
        "    np.random.seed(seed)\n",
        "    random.seed(seed)\n",
        "    \n",
        "    # Orbital distance (AU) - Independent variable\n",
        "    # Skew distribution slightly towards closer orbits, but allow far ones\n",
        "    orbital_distance = np.random.gamma(2, 3, num_samples) + 0.2 # Ensure min distance\n",
        "    orbital_distance = np.clip(orbital_distance, 0.2, 50) # Realistic range\n",
        "    \n",
        "    # Planet Mass (Earth masses) - Dependent variable\n",
        "    # Complex relationship: lower mass close, peak in middle, lower far out\n",
        "    mass_base = 5 * np.exp(-(orbital_distance - 5)**2 / 15) + 0.5 # Gas giant peak around 5 AU\n",
        "    mass_rocky = 1.5 * np.exp(-orbital_distance / 1.0) + 0.1 # Rocky planets closer\n",
        "    mass = mass_base + mass_rocky\n",
        "    # Add noise\n",
        "    mass_noise = np.random.normal(0, mass * 0.3, num_samples) # Noise proportional to mass\n",
        "    mass = np.abs(mass + mass_noise) # Ensure positive mass\n",
        "    mass = np.clip(mass, 0.01, 1000) # Realistic bounds\n",
        "\n",
        "    # Planet Radius (Earth radii) - Dependent variable\n",
        "    # Generally related to mass (mass ~ radius^3 for similar density)\n",
        "    # Density varies: rocky planets denser than gas giants\n",
        "    density_factor = 1.0 + 1.5 * np.exp(-orbital_distance / 2.0) # Higher density closer\n",
        "    radius = (mass / density_factor)**(1/3)\n",
        "    # Add noise\n",
        "    radius_noise = np.random.normal(0, radius * 0.15, num_samples)\n",
        "    radius = np.abs(radius + radius_noise)\n",
        "    radius = np.clip(radius, 0.1, 25) # Realistic bounds (Earth=1, Jupiter~11)\n",
        "    \n",
        "    # Planet Temperature (K) - Dependent variable (Simplified)\n",
        "    # Assume star luminosity is constant, temperature decreases with distance (T ~ 1/sqrt(d))\n",
        "    # Let's use a base temperature at 1 AU (e.g., 280 K)\n",
        "    temperature = 280 / np.sqrt(orbital_distance)\n",
        "    # Add noise\n",
        "    temp_noise = np.random.normal(0, 20, num_samples) # Constant noise level\n",
        "    temperature = np.abs(temperature + temp_noise)\n",
        "    temperature = np.clip(temperature, 10, 2000) # Realistic bounds\n",
        "    \n",
        "    # Reshape orbital_distance for scikit-learn\n",
        "    X = orbital_distance.reshape(-1, 1)\n",
        "    \n",
        "    # Target variables\n",
        "    y_mass = mass\n",
        "    y_radius = radius\n",
        "    y_temp = temperature\n",
        "    \n",
        "    return X, y_mass, y_radius, y_temp\n",
        "\n",
        "# Generate the data\n",
        "X, y_mass, y_radius, y_temp = generate_synthetic_planet_data(num_samples=1500)\n",
        "\n",
        "# Split data into training and testing sets (for all targets)\n",
        "X_train, X_test, y_mass_train, y_mass_test = train_test_split(X, y_mass, test_size=0.2, random_state=42)\n",
        "_, _, y_radius_train, y_radius_test = train_test_split(X, y_radius, test_size=0.2, random_state=42)\n",
        "_, _, y_temp_train, y_temp_test = train_test_split(X, y_temp, test_size=0.2, random_state=42)\n",
        "\n",
        "print(f\"Generated {len(X)} samples.\")\n",
        "print(f\"Training set size: {len(X_train)}\")\n",
        "print(f\"Test set size: {len(X_test)}\")"
      ]
    },
    {
      "cell_type": "markdown",
      "metadata": {},
      "source": [
        "## 3. Data Visualization (Pre-Training)"
      ]
    },
    {
      "cell_type": "code",
      "execution_count": null,
      "metadata": {},
      "outputs": [],
      "source": [
        "fig, axs = plt.subplots(3, 1, figsize=(10, 15), sharex=True)\n",
        "\n",
        "axs[0].scatter(X_train, y_mass_train, alpha=0.5, label='Train Data', s=10)\n",
        "axs[0].scatter(X_test, y_mass_test, alpha=0.5, label='Test Data', s=10, c='red')\n",
        "axs[0].set_ylabel('Mass (Earth Masses)')\n",
        "axs[0].set_title('Orbital Distance vs. Planet Mass')\n",
        "axs[0].legend()\n",
        "axs[0].grid(True)\n",
        "\n",
        "axs[1].scatter(X_train, y_radius_train, alpha=0.5, label='Train Data', s=10)\n",
        "axs[1].scatter(X_test, y_radius_test, alpha=0.5, label='Test Data', s=10, c='red')\n",
        "axs[1].set_ylabel('Radius (Earth Radii)')\n",
        "axs[1].set_title('Orbital Distance vs. Planet Radius')\n",
        "axs[1].legend()\n",
        "axs[1].grid(True)\n",
        "\n",
        "axs[2].scatter(X_train, y_temp_train, alpha=0.5, label='Train Data', s=10)\n",
        "axs[2].scatter(X_test, y_temp_test, alpha=0.5, label='Test Data', s=10, c='red')\n",
        "axs[2].set_xlabel('Orbital Distance (AU)')\n",
        "axs[2].set_ylabel('Temperature (K)')\n",
        "axs[2].set_title('Orbital Distance vs. Planet Temperature')\n",
        "axs[2].legend()\n",
        "axs[2].grid(True)\n",
        "\n",
        "plt.tight_layout()\n",
        "plt.show()"
      ]
    },
    {
      "cell_type": "markdown",
      "metadata": {},
      "source": [
        "## 4. Model Definition and Hyperparameter Tuning"
      ]
    },
    {
      "cell_type": "code",
      "execution_count": null,
      "metadata": {},
      "outputs": [],
      "source": [
        "# We will use Polynomial Regression to capture non-linear relationships.\n",
        "# We need to tune the degree of the polynomial.\n",
        "# We will train separate models for mass, radius, and temperature.\n",
        "\n",
        "def tune_polynomial_regression(X_train, y_train):\n",
        "    \"\"\"Tunes the degree of polynomial regression using GridSearchCV.\"\"\"\n",
        "    pipeline = Pipeline([\n",
        "        ('poly', PolynomialFeatures()),\n",
        "        ('linear', LinearRegression())\n",
        "    ])\n",
        "    \n",
        "    # Define the parameter grid to search\n",
        "    # Degrees 1 (linear) to 7 seem reasonable for this complexity\n",
        "    param_grid = {'poly__degree': np.arange(1, 8)}\n",
        "    \n",
        "    # Use GridSearchCV for hyperparameter tuning\n",
        "    search = GridSearchCV(pipeline, param_grid, cv=5, scoring='neg_mean_squared_error', n_jobs=-1)\n",
        "    search.fit(X_train, y_train)\n",
        "    \n",
        "    print(f\"Best parameters found: {search.best_params_}\")\n",
        "    print(f\"Best cross-validation score (Negative MSE): {search.best_score_:.4f}\")\n",
        "    \n",
        "    return search.best_estimator_, search.best_params_['poly__degree']\n",
        "\n",
        "# Tune model for Mass\n",
        "print(\"--- Tuning for Mass ---\")\n",
        "best_mass_model, best_mass_degree = tune_polynomial_regression(X_train, y_mass_train)\n",
        "\n",
        "# Tune model for Radius\n",
        "print(\"\\n--- Tuning for Radius ---\")\n",
        "best_radius_model, best_radius_degree = tune_polynomial_regression(X_train, y_radius_train)\n",
        "\n",
        "# Tune model for Temperature\n",
        "print(\"\\n--- Tuning for Temperature ---\")\n",
        "best_temp_model, best_temp_degree = tune_polynomial_regression(X_train, y_temp_train)"
      ]
    },
    {
      "cell_type": "markdown",
      "metadata": {},
      "source": [
        "## 5. Model Training (Using Best Hyperparameters)"
      ]
    },
    {
      "cell_type": "code",
      "execution_count": null,
      "metadata": {},
      "outputs": [],
      "source": [
        "# The best models are already trained by GridSearchCV on the full training data\n",
        "# We can directly use best_mass_model, best_radius_model, best_temp_model\n",
        "print(\"Models trained using the best hyperparameters found during tuning.\")\n",
        "print(f\"Mass Model: Polynomial Degree {best_mass_degree}\")\n",
        "print(f\"Radius Model: Polynomial Degree {best_radius_degree}\")\n",
        "print(f\"Temperature Model: Polynomial Degree {best_temp_degree}\")"
      ]
    },
    {
      "cell_type": "markdown",
      "metadata": {},
      "source": [
        "## 6. Model Evaluation"
      ]
    },
    {
      "cell_type": "code",
      "execution_count": null,
      "metadata": {},
      "outputs": [],
      "source": [
        "def evaluate_model(model, X_test, y_test, target_name):\n",
        "    \"\"\"Evaluates the model on the test set and prints metrics.\"\"\"\n",
        "    y_pred = model.predict(X_test)\n",
        "    mse = mean_squared_error(y_test, y_pred)\n",
        "    r2 = r2_score(y_test, y_pred)\n",
        "    \n",
        "    print(f\"--- Evaluation for {target_name} ---\")\n",
        "    print(f\"Mean Squared Error (MSE): {mse:.4f}\")\n",
        "    print(f\"R-squared (R2) Score:   {r2:.4f}\")\n",
        "    return y_pred\n",
        "\n",
        "# Evaluate Mass Model\n",
        "y_mass_pred = evaluate_model(best_mass_model, X_test, y_mass_test, \"Mass\")\n",
        "\n",
        "# Evaluate Radius Model\n",
        "y_radius_pred = evaluate_model(best_radius_model, X_test, y_radius_test, \"Radius\")\n",
        "\n",
        "# Evaluate Temperature Model\n",
        "y_temp_pred = evaluate_model(best_temp_model, X_test, y_temp_test, \"Temperature\")"
      ]
    },
    {
      "cell_type": "markdown",
      "metadata": {},
      "source": [
        "## 7. Results Visualization"
      ]
    },
    {
      "cell_type": "code",
      "execution_count": null,
      "metadata": {},
      "outputs": [],
      "source": [
        "# Generate predictions across the full range of distances for plotting the learned curve\n",
        "X_range = np.linspace(X.min(), X.max(), 500).reshape(-1, 1)\n",
        "\n",
        "mass_curve = best_mass_model.predict(X_range)\n",
        "radius_curve = best_radius_model.predict(X_range)\n",
        "temp_curve = best_temp_model.predict(X_range)\n",
        "\n",
        "# Plot results\n",
        "fig, axs = plt.subplots(3, 1, figsize=(12, 18), sharex=True)\n",
        "\n",
        "# Mass Plot\n",
        "axs[0].scatter(X_train, y_mass_train, alpha=0.3, label='Train Data', s=10)\n",
        "axs[0].scatter(X_test, y_mass_test, alpha=0.5, label='Test Data', s=15, c='orange')\n",
        "axs[0].plot(X_range, mass_curve, color='red', linewidth=2, label=f'Poly Degree {best_mass_degree} Fit')\n",
        "axs[0].set_ylabel('Mass (Earth Masses)')\n",
        "axs[0].set_title('Model Fit: Orbital Distance vs. Planet Mass')\n",
        "axs[0].legend()\n",
        "axs[0].grid(True)\n",
        "axs[0].set_ylim(bottom=0)\n",
        "\n",
        "# Radius Plot\n",
        "axs[1].scatter(X_train, y_radius_train, alpha=0.3, label='Train Data', s=10)\n",
        "axs[1].scatter(X_test, y_radius_test, alpha=0.5, label='Test Data', s=15, c='orange')\n",
        "axs[1].plot(X_range, radius_curve, color='red', linewidth=2, label=f'Poly Degree {best_radius_degree} Fit')\n",
        "axs[1].set_ylabel('Radius (Earth Radii)')\n",
        "axs[1].set_title('Model Fit: Orbital Distance vs. Planet Radius')\n",
        "axs[1].legend()\n",
        "axs[1].grid(True)\n",
        "axs[1].set_ylim(bottom=0)\n",
        "\n",
        "# Temperature Plot\n",
        "axs[2].scatter(X_train, y_temp_train, alpha=0.3, label='Train Data', s=10)\n",
        "axs[2].scatter(X_test, y_temp_test, alpha=0.5, label='Test Data', s=15, c='orange')\n",
        "axs[2].plot(X_range, temp_curve, color='red', linewidth=2, label=f'Poly Degree {best_temp_degree} Fit')\n",
        "axs[2].set_xlabel('Orbital Distance (AU)')\n",
        "axs[2].set_ylabel('Temperature (K)')\n",
        "axs[2].set_title('Model Fit: Orbital Distance vs. Planet Temperature')\n",
        "axs[2].legend()\n",
        "axs[2].grid(True)\n",
        "axs[2].set_ylim(bottom=0)\n",
        "\n",
        "plt.tight_layout()\n",
        "plt.show()"
      ]
    },
    {
      "cell_type": "markdown",
      "metadata": {},
      "source": [
        "## 8. Model Saving"
      ]
    },
    {
      "cell_type": "code",
      "execution_count": null,
      "metadata": {},
      "outputs": [],
      "source": [
        "# Save the trained models for use in the game\n",
        "model_filename_mass = 'planet_mass_model.joblib'\n",
        "model_filename_radius = 'planet_radius_model.joblib'\n",
        "model_filename_temp = 'planet_temp_model.joblib'\n",
        "\n",
        "joblib.dump(best_mass_model, model_filename_mass)\n",
        "joblib.dump(best_radius_model, model_filename_radius)\n",
        "joblib.dump(best_temp_model, model_filename_temp)\n",
        "\n",
        "print(f\"Mass model saved to {model_filename_mass}\")\n",
        "print(f\"Radius model saved to {model_filename_radius}\")\n",
        "print(f\"Temperature model saved to {model_filename_temp}\")"
      ]
    },
    {
      "cell_type": "markdown",
      "metadata": {},
      "source": [
        "## 9. Example Usage (Loading and Predicting)"
      ]
    },
    {
      "cell_type": "code",
      "execution_count": null,
      "metadata": {},
      "outputs": [],
      "source": [
        "# Load the models (as the game would)\n",
        "loaded_mass_model = joblib.load(model_filename_mass)\n",
        "loaded_radius_model = joblib.load(model_filename_radius)\n",
        "loaded_temp_model = joblib.load(model_filename_temp)\n",
        "\n",
        "# Example: Predict properties for planets at specific distances\n",
        "example_distances = np.array([0.5, 1.0, 5.0, 10.0, 30.0]).reshape(-1, 1)\n",
        "\n",
        "predicted_mass = loaded_mass_model.predict(example_distances)\n",
        "predicted_radius = loaded_radius_model.predict(example_distances)\n",
        "predicted_temp = loaded_temp_model.predict(example_distances)\n",
        "\n",
        "# Ensure predictions are physically plausible (non-negative)\n",
        "predicted_mass = np.clip(predicted_mass, 0.01, None) \n",
        "predicted_radius = np.clip(predicted_radius, 0.1, None)\n",
        "predicted_temp = np.clip(predicted_temp, 10, None)\n",
        "\n",
        "print(\"\\n--- Example Predictions ---\")\n",
        "for i, dist in enumerate(example_distances.flatten()):\n",
        "    print(f\"Distance: {dist:.2f} AU -> Mass: {predicted_mass[i]:.2f} EM, Radius: {predicted_radius[i]:.2f} ER, Temp: {predicted_temp[i]:.1f} K\")"
      ]
    }
  ],
  "metadata": {
    "kernelspec": {
      "display_name": "Python 3 (ipykernel)",
      "language": "python",
      "name": "python3"
    },
    "language_info": {
      "codemirror_mode": {
        "name": "ipython",
        "version": 3
      },
      "file_extension": ".py",
      "mimetype": "text/x-python",
      "name": "python",
      "nbconvert_exporter": "python",
      "pygments_lexer": "ipython3",
      "version": "3.9.12"
    }
  },
  "nbformat": 4,
  "nbformat_minor": 5
}